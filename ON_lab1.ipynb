{
  "nbformat": 4,
  "nbformat_minor": 0,
  "metadata": {
    "colab": {
      "name": "ON-lab1",
      "provenance": [],
      "collapsed_sections": [],
      "authorship_tag": "ABX9TyN4cou35Ah6iVLC81+Snqw6",
      "include_colab_link": true
    },
    "kernelspec": {
      "name": "python3",
      "display_name": "Python 3"
    },
    "language_info": {
      "name": "python"
    }
  },
  "cells": [
    {
      "cell_type": "markdown",
      "metadata": {
        "id": "view-in-github",
        "colab_type": "text"
      },
      "source": [
        "<a href=\"https://colab.research.google.com/github/danio2010/ON2022/blob/main/ON_lab1.ipynb\" target=\"_parent\"><img src=\"https://colab.research.google.com/assets/colab-badge.svg\" alt=\"Open In Colab\"/></a>"
      ]
    },
    {
      "cell_type": "code",
      "execution_count": null,
      "metadata": {
        "id": "hQX8-Lc3R9Cg"
      },
      "outputs": [],
      "source": [
        ""
      ]
    },
    {
      "cell_type": "markdown",
      "source": [
        "#LAB nr 1\n",
        "Plan:\n",
        "\n",
        "* Git/GitHub\n",
        "* DVC\n",
        "* wprowadzenie do Jupyter/Colab"
      ],
      "metadata": {
        "id": "3CLdRpXMSPhQ"
      }
    },
    {
      "cell_type": "markdown",
      "source": [
        "## Git/GitHub\n",
        "\n",
        "Zadanie 1. Założyć konto na GitHub (lub zalogować się)\n",
        "\n",
        "Zadanie 2. Utworzyć repozytorium o nazwie \"Obliczenia naukowe\"\n",
        "\n",
        "Zadanie 3. Utworzyć w CoLab plik zad1.3.ipynb o treści \"Test wysyłania\", zapisać go na swoim GoogleDrive, a kopię zapisać w GitHub\n",
        "(https://towardsdatascience.com/google-drive-google-colab-github-dont-just-read-do-it-5554d5824228)\n",
        "\n",
        "Zadanie 4. Utworzyć plik zad1.4.txt o dowolnej treście bezpośrednio w GitHub\n",
        "\n",
        "Zadanie 5. Dodaj nowe zagadnienie do repozytorium https://github.com/danio2010/ON2022\n",
        "\n",
        "Zadanie 6. Określ ile razy modyfikowany był plik ON_lab1.ipynb"
      ],
      "metadata": {
        "id": "7CbvowayyBWA"
      }
    }
  ]
}