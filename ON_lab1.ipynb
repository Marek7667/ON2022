{
  "nbformat": 4,
  "nbformat_minor": 0,
  "metadata": {
    "colab": {
      "name": "ON-lab1",
      "provenance": [],
      "collapsed_sections": [],
      "authorship_tag": "ABX9TyPGT/RCvOgxpEnU4KPtUOwL",
      "include_colab_link": true
    },
    "kernelspec": {
      "name": "python3",
      "display_name": "Python 3"
    },
    "language_info": {
      "name": "python"
    }
  },
  "cells": [
    {
      "cell_type": "markdown",
      "metadata": {
        "id": "view-in-github",
        "colab_type": "text"
      },
      "source": [
        "<a href=\"https://colab.research.google.com/github/danio2010/ON2022/blob/main/ON_lab1.ipynb\" target=\"_parent\"><img src=\"https://colab.research.google.com/assets/colab-badge.svg\" alt=\"Open In Colab\"/></a>"
      ]
    },
    {
      "cell_type": "code",
      "execution_count": null,
      "metadata": {
        "id": "hQX8-Lc3R9Cg"
      },
      "outputs": [],
      "source": [
        ""
      ]
    },
    {
      "cell_type": "markdown",
      "source": [
        "#LAB nr 1\n",
        "Plan:\n",
        "\n",
        "* Git/GitHub\n",
        "* DVC\n",
        "* wprowadzenie do Jupyter/Colab"
      ],
      "metadata": {
        "id": "3CLdRpXMSPhQ"
      }
    },
    {
      "cell_type": "markdown",
      "source": [
        "## Git/GitHub\n",
        "\n",
        "Zadanie 1. Założyć konto na GitHub (lub zalogować się)\n",
        "\n",
        "Zadanie 2. Utworzyć repozytorium o nazwie \"Obliczenia naukowe\"\n",
        "\n",
        "Zadanie 3. Utworzyć w CoLab plik testWysylania.txt, zapisać go na swoim GoogleDrive, a kopię zapisać w GitHub"
      ],
      "metadata": {
        "id": "7CbvowayyBWA"
      }
    }
  ]
}