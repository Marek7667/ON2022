{
  "nbformat": 4,
  "nbformat_minor": 0,
  "metadata": {
    "colab": {
      "name": "ON-lab1",
      "provenance": [],
      "collapsed_sections": [],
      "authorship_tag": "ABX9TyM48ymXg2yD9BAjF+AJD9X4",
      "include_colab_link": true
    },
    "kernelspec": {
      "name": "python3",
      "display_name": "Python 3"
    },
    "language_info": {
      "name": "python"
    }
  },
  "cells": [
    {
      "cell_type": "markdown",
      "metadata": {
        "id": "view-in-github",
        "colab_type": "text"
      },
      "source": [
        "<a href=\"https://colab.research.google.com/github/danio2010/ON2022/blob/main/ON_lab1.ipynb\" target=\"_parent\"><img src=\"https://colab.research.google.com/assets/colab-badge.svg\" alt=\"Open In Colab\"/></a>"
      ]
    },
    {
      "cell_type": "code",
      "execution_count": null,
      "metadata": {
        "id": "hQX8-Lc3R9Cg"
      },
      "outputs": [],
      "source": [
        ""
      ]
    },
    {
      "cell_type": "markdown",
      "source": [
        "#LAB nr 1\n",
        "Plan:\n",
        "\n",
        "* Git/GitHub\n",
        "* DVC\n",
        "* wprowadzenie do Jupyter/Colab"
      ],
      "metadata": {
        "id": "3CLdRpXMSPhQ"
      }
    },
    {
      "cell_type": "markdown",
      "source": [
        "## Git/GitHub\n",
        "\n",
        "Zadanie 1. Założyć konto na GitHub (lub zalogować się)\n",
        "\n",
        "Zadanie 2. Utworzyć repozytorium o nazwie \"Obliczenia naukowe\"\n",
        "\n",
        "Zadanie 3. Utworzyć w CoLab plik zad1.3.ipynb o treści \"Test wysyłania\", zapisać go na swoim GoogleDrive, a kopię zapisać w GitHub\n",
        "(https://towardsdatascience.com/google-drive-google-colab-github-dont-just-read-do-it-5554d5824228)\n"
      ],
      "metadata": {
        "id": "7CbvowayyBWA"
      }
    },
    {
      "cell_type": "code",
      "source": [
        "from google.colab import drive\n",
        "drive.mount(\"/content/drive\")"
      ],
      "metadata": {
        "colab": {
          "base_uri": "https://localhost:8080/"
        },
        "id": "PL4XwQol5izo",
        "outputId": "332a07f8-e320-4472-e0b7-44a09b407604"
      },
      "execution_count": 3,
      "outputs": [
        {
          "output_type": "stream",
          "name": "stdout",
          "text": [
            "Mounted at /content/drive\n"
          ]
        }
      ]
    },
    {
      "cell_type": "code",
      "source": [
        "!git status"
      ],
      "metadata": {
        "colab": {
          "base_uri": "https://localhost:8080/"
        },
        "id": "mTCtdcN_G1ak",
        "outputId": "fac3e5f6-a912-47c5-820f-a6768306eac9"
      },
      "execution_count": 4,
      "outputs": [
        {
          "output_type": "stream",
          "name": "stdout",
          "text": [
            "fatal: not a git repository (or any of the parent directories): .git\n"
          ]
        }
      ]
    },
    {
      "cell_type": "code",
      "source": [
        "!ls"
      ],
      "metadata": {
        "colab": {
          "base_uri": "https://localhost:8080/"
        },
        "id": "uS0saMilK4Oa",
        "outputId": "b63c0a17-683f-46a9-cf42-ddf1081ebaf0"
      },
      "execution_count": 5,
      "outputs": [
        {
          "output_type": "stream",
          "name": "stdout",
          "text": [
            "drive  sample_data\n"
          ]
        }
      ]
    },
    {
      "cell_type": "code",
      "source": [
        "!ls /content/drive/'My Drive'"
      ],
      "metadata": {
        "colab": {
          "base_uri": "https://localhost:8080/"
        },
        "id": "n6sCKEMxLPBn",
        "outputId": "31466d29-3c87-4bc9-80d8-43d367fc9406"
      },
      "execution_count": 6,
      "outputs": [
        {
          "output_type": "stream",
          "name": "stdout",
          "text": [
            "'Arkusz kalkulacyjny bez nazwy.gsheet'\n",
            " a_studia_kopiaZapasowa_14.02.2017\n",
            "'Aurelia - dyplom.gdoc'\n",
            "'baner do druku.cdr'\n",
            "'baner do druku ver1.cdr'\n",
            "'Bez nazwy'\n",
            "'Bez nazwy (1).gdoc'\n",
            "'Bez nazwy (2).gdoc'\n",
            "'Bez nazwy.gdoc'\n",
            "'Colab Notebooks'\n",
            " contacts102020.vcf\n",
            "'Czat nokia'\n",
            "'Dziękczynne spotkanie Wspólnoty'\n",
            "'#FV021012.pdf'\n",
            "'gra z posłańcem.gsheet'\n",
            " IMG_20180508_212403.jpg\n",
            "'IMG_20200602_153618 (1).jpg'\n",
            " IMG_20200602_153618.jpg\n",
            " JAZZ.m4a\n",
            "'Kalendarz 2021'\n",
            "'kalendarz z 2017'\n",
            " Klara.m4a\n",
            " Klara.mp4\n",
            "'Klara - najładniejsze :)'\n",
            " knm\n",
            " kołysanki\n",
            "'koszty budowy domu-NEW (1).ods.gsheet'\n",
            "'koszty budowy domu-NEW.ods.gsheet'\n",
            "'kww — kopia'\n",
            "'kww — kopia.zip'\n",
            " matematyka\n",
            "'Moje trasy'\n",
            "'Obrona Daniela.flv'\n",
            "'obrona Mariusza.gsheet'\n",
            "'Olimpijskie kółko matematyczne na Wydziale Matematyki i Informatyki UMK.gform'\n",
            " orkiestra\n",
            "'Pomysły na escape room i grę miejską.gdoc'\n",
            "'praca magisterska_backup(03 marca)'\n",
            " projekty\n",
            "'Rolada bezowa.docx'\n",
            " rozne\n",
            "'ROZPRAWA DOKTORSKA backup 6-12'\n",
            " Siatkówka.gsheet\n",
            "'Siatkówka - zastępstwa.gsheet'\n",
            " Słoneczna\n",
            " śpiewnik\n",
            "'TLSMiI 2015 - wspólny'\n",
            "'Tolkien J.R.R. - Hobbit czyli tam i z powrotem.pdf'\n",
            " VID_20200325_093600.mp4\n",
            " VID_20200415_170045.mp4\n",
            " VID_20200602_153824.mp4\n",
            "'włoski - konwersacje'\n",
            "'włoski - kryminał'\n",
            " zadania\n",
            "'Zadania do wykonania.gsheet'\n",
            " Zamówienie.pdf\n",
            " zaswiadczenie.pdf\n",
            " żwirownia\n"
          ]
        }
      ]
    },
    {
      "cell_type": "code",
      "source": [
        ""
      ],
      "metadata": {
        "id": "pKCtG2JFPkta"
      },
      "execution_count": null,
      "outputs": []
    }
  ]
}