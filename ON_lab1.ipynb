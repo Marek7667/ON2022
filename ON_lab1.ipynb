{
  "nbformat": 4,
  "nbformat_minor": 0,
  "metadata": {
    "colab": {
      "name": "ON-lab1",
      "provenance": [],
      "authorship_tag": "ABX9TyOGTMlvRuv4Osqd/V/RwRdc",
      "include_colab_link": true
    },
    "kernelspec": {
      "name": "python3",
      "display_name": "Python 3"
    },
    "language_info": {
      "name": "python"
    }
  },
  "cells": [
    {
      "cell_type": "markdown",
      "metadata": {
        "id": "view-in-github",
        "colab_type": "text"
      },
      "source": [
        "<a href=\"https://colab.research.google.com/github/danio2010/ON2022/blob/main/ON_lab1.ipynb\" target=\"_parent\"><img src=\"https://colab.research.google.com/assets/colab-badge.svg\" alt=\"Open In Colab\"/></a>"
      ]
    },
    {
      "cell_type": "code",
      "execution_count": null,
      "metadata": {
        "id": "hQX8-Lc3R9Cg"
      },
      "outputs": [],
      "source": [
        ""
      ]
    },
    {
      "cell_type": "markdown",
      "source": [
        "#LAB nr 1\n",
        "Plan:\n",
        "\n",
        "* Git/GitHub\n",
        "* DVC\n",
        "* wprowadzenie do Jupyter/Colab"
      ],
      "metadata": {
        "id": "3CLdRpXMSPhQ"
      }
    },
    {
      "cell_type": "markdown",
      "source": [
        "## Git/GitHub\n",
        "\n",
        "Zadanie 1. Założyć konto na GitHub (lub zalogować się)\n",
        "\n",
        "Zadanie 2. Utworzyć repozytorium o nazwie \"Obliczenia naukowe\"\n",
        "\n",
        "Zadanie 3."
      ],
      "metadata": {
        "id": "7CbvowayyBWA"
      }
    },
    {
      "cell_type": "code",
      "source": [
        ""
      ],
      "metadata": {
        "id": "9LpyUDzsyA8a"
      },
      "execution_count": null,
      "outputs": []
    },
    {
      "cell_type": "code",
      "source": [
        ""
      ],
      "metadata": {
        "colab": {
          "base_uri": "https://localhost:8080/"
        },
        "id": "YiPcLtevvsAw",
        "outputId": "15f39092-9bed-46b4-ec51-a4bbfaa98326"
      },
      "execution_count": 1,
      "outputs": [
        {
          "output_type": "stream",
          "name": "stdout",
          "text": [
            "hej\n"
          ]
        }
      ]
    },
    {
      "cell_type": "code",
      "source": [
        ""
      ],
      "metadata": {
        "id": "DoivqCxex-xq"
      },
      "execution_count": null,
      "outputs": []
    }
  ]
}