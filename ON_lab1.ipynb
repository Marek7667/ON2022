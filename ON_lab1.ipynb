{
  "nbformat": 4,
  "nbformat_minor": 0,
  "metadata": {
    "colab": {
      "name": "ON-lab1",
      "provenance": [],
      "collapsed_sections": []
    },
    "kernelspec": {
      "name": "python3",
      "display_name": "Python 3"
    },
    "language_info": {
      "name": "python"
    }
  },
  "cells": [
    {
      "cell_type": "code",
      "execution_count": null,
      "metadata": {
        "id": "hQX8-Lc3R9Cg"
      },
      "outputs": [],
      "source": [
        ""
      ]
    },
    {
      "cell_type": "markdown",
      "source": [
        "#LAB nr 1\n",
        "Plan:\n",
        "\n",
        "* Git/GitHub\n",
        "* wprowadzenie do Jupyter/Colab\n",
        "* Przypomnienie pythona"
      ],
      "metadata": {
        "id": "3CLdRpXMSPhQ"
      }
    },
    {
      "cell_type": "markdown",
      "source": [
        "## Git/GitHub\n",
        "\n"
      ],
      "metadata": {
        "id": "7CbvowayyBWA"
      }
    },
    {
      "cell_type": "markdown",
      "source": [
        "Zadanie 1. Założyć konto na GitHub (lub zalogować się)\n",
        "\n",
        "Zadanie 2. Utworzyć repozytorium o nazwie \"Obliczenia naukowe\"\n",
        "\n",
        "Zadanie 3. Utworzyć w CoLab plik zad1.3.ipynb o treści \"Test wysyłania\", zapisać go na swoim GoogleDrive, a kopię zapisać w GitHub\n",
        "(https://towardsdatascience.com/google-drive-google-colab-github-dont-just-read-do-it-5554d5824228)\n",
        "\n",
        "Zadanie 4. Utworzyć w swoim repozytorium plik zad1.4.txt o dowolnej treści bezpośrednio w GitHub\n",
        "\n",
        "Zadanie 5. Dodaj nowe zagadnienie (issue) do repozytorium https://github.com/danio2010/ON2022\n",
        "\n",
        "Zadanie 6. Określ ile razy modyfikowany był plik ON_lab1.ipynb i wpisz tę liczbę to pliku zad1.6.txt"
      ],
      "metadata": {
        "id": "C3b45zcBwSA1"
      }
    },
    {
      "cell_type": "markdown",
      "source": [
        "## Jupyter Notebook/CoLab\n",
        "\n",
        "\n",
        "\n",
        "\n"
      ],
      "metadata": {
        "id": "V1GAMcShn01R"
      }
    },
    {
      "cell_type": "markdown",
      "source": [
        "### Możliwości pól komentarza\n",
        "\n",
        "* Nagłówki\n",
        "```markdown\n",
        "# Sekcja 1\n",
        "# Sekcja 2\n",
        "## Podskecja sekcji 2\n",
        "# Sekcja 3\n",
        "```\n",
        "\n",
        "* Wyróżnianie tekstu\n",
        "\n",
        "Składnia | Efekt\n",
        "--- | ---\n",
        "`**bold text**` | **bold text**\n",
        "`*italicized text*` or `_italicized text_` | *italicized text*\n",
        "`~~strikethrough~~` | ~~strikethrough~~\n",
        "\n",
        "* Bloki z kodem python\n",
        "````\n",
        "```python\n",
        "print(\"a\")\n",
        "```\n",
        "````\n",
        "```python\n",
        "print(\"a\")\n",
        "```\n",
        "\n",
        "* Listy\n",
        "1. pierwszy\n",
        "1. drugi\n",
        "1. trzeci\n",
        "\n",
        "* LaTeX\n",
        "\n",
        "* Tabelki\n",
        "\n",
        "C1  | C2\n",
        "--- | ---\n",
        "a|b\n",
        "c|d\n",
        "\n",
        "\n",
        "\n",
        "\n"
      ],
      "metadata": {
        "id": "EY8O9bBQwkn6"
      }
    },
    {
      "cell_type": "markdown",
      "source": [
        ""
      ],
      "metadata": {
        "id": "heyNfq15wIyI"
      }
    },
    {
      "cell_type": "code",
      "source": [
        ""
      ],
      "metadata": {
        "id": "NBD8Bt8HSThI"
      },
      "execution_count": null,
      "outputs": []
    },
    {
      "cell_type": "markdown",
      "source": [
        "## Podstawy pythona\n"
      ],
      "metadata": {
        "id": "SQb8m1WRSghV"
      }
    },
    {
      "cell_type": "markdown",
      "source": [
        "### Python jako kalkulator"
      ],
      "metadata": {
        "id": "F6YRT9S_UOnq"
      }
    },
    {
      "cell_type": "code",
      "source": [
        "\n",
        "2+2"
      ],
      "metadata": {
        "colab": {
          "base_uri": "https://localhost:8080/"
        },
        "id": "72BCgDoTSlOd",
        "outputId": "4b990422-df13-40f7-c560-d72ebaca40ee"
      },
      "execution_count": null,
      "outputs": [
        {
          "output_type": "execute_result",
          "data": {
            "text/plain": [
              "8"
            ]
          },
          "metadata": {},
          "execution_count": 1
        }
      ]
    },
    {
      "cell_type": "code",
      "source": [
        "2**3"
      ],
      "metadata": {
        "colab": {
          "base_uri": "https://localhost:8080/"
        },
        "id": "VlTnHGuwT8HI",
        "outputId": "8489b1ee-8300-43bc-dec6-af2bc51cadda"
      },
      "execution_count": null,
      "outputs": [
        {
          "output_type": "execute_result",
          "data": {
            "text/plain": [
              "8"
            ]
          },
          "metadata": {},
          "execution_count": 2
        }
      ]
    },
    {
      "cell_type": "code",
      "source": [
        "3>4"
      ],
      "metadata": {
        "colab": {
          "base_uri": "https://localhost:8080/"
        },
        "id": "HQFvR9PyXkEf",
        "outputId": "b2c308d4-45c0-4b28-b072-fb3bd11d1a7a"
      },
      "execution_count": null,
      "outputs": [
        {
          "output_type": "execute_result",
          "data": {
            "text/plain": [
              "False"
            ]
          },
          "metadata": {},
          "execution_count": 18
        }
      ]
    },
    {
      "cell_type": "code",
      "source": [
        "import math\n",
        "math.sqrt(4)"
      ],
      "metadata": {
        "colab": {
          "base_uri": "https://localhost:8080/"
        },
        "id": "55UwsmDYO9Cq",
        "outputId": "73746ee7-6b7d-4fb6-a807-434d770da217"
      },
      "execution_count": null,
      "outputs": [
        {
          "output_type": "execute_result",
          "data": {
            "text/plain": [
              "2.0"
            ]
          },
          "metadata": {},
          "execution_count": 98
        }
      ]
    },
    {
      "cell_type": "code",
      "source": [
        "math.log(4,2)"
      ],
      "metadata": {
        "colab": {
          "base_uri": "https://localhost:8080/"
        },
        "id": "nFyl2CTm_v5S",
        "outputId": "659195f9-c193-4449-ce2a-2cf038b89874"
      },
      "execution_count": null,
      "outputs": [
        {
          "output_type": "execute_result",
          "data": {
            "text/plain": [
              "2.0"
            ]
          },
          "metadata": {},
          "execution_count": 99
        }
      ]
    },
    {
      "cell_type": "code",
      "source": [
        "math.factorial(4)"
      ],
      "metadata": {
        "colab": {
          "base_uri": "https://localhost:8080/"
        },
        "id": "f5JJUyeV_019",
        "outputId": "4241074d-bca7-41bb-b32a-a1b0866cbbd8"
      },
      "execution_count": null,
      "outputs": [
        {
          "output_type": "execute_result",
          "data": {
            "text/plain": [
              "24"
            ]
          },
          "metadata": {},
          "execution_count": 100
        }
      ]
    },
    {
      "cell_type": "code",
      "source": [
        "math.fabs(-10)"
      ],
      "metadata": {
        "colab": {
          "base_uri": "https://localhost:8080/"
        },
        "id": "EK4o6uWb_8ML",
        "outputId": "b4e6970a-203e-4035-a474-d70dd0258c96"
      },
      "execution_count": null,
      "outputs": [
        {
          "output_type": "execute_result",
          "data": {
            "text/plain": [
              "10.0"
            ]
          },
          "metadata": {},
          "execution_count": 101
        }
      ]
    },
    {
      "cell_type": "markdown",
      "source": [
        "### Pętle i instrukcja warunkowa, funkcje"
      ],
      "metadata": {
        "id": "fcbEnrICO_x6"
      }
    },
    {
      "cell_type": "code",
      "source": [
        "if 2>5:\n",
        "  print(\"nie\")\n",
        "else:\n",
        "  print(\"tak\")"
      ],
      "metadata": {
        "colab": {
          "base_uri": "https://localhost:8080/"
        },
        "id": "Kn22x-d0PEta",
        "outputId": "94ec7329-ec19-4a11-8f58-abaf19b77b5f"
      },
      "execution_count": null,
      "outputs": [
        {
          "output_type": "stream",
          "name": "stdout",
          "text": [
            "nie\n"
          ]
        }
      ]
    },
    {
      "cell_type": "code",
      "source": [
        "for i in range(5):\n",
        "  print(i)\n",
        "\n",
        "# Pętle mogą chodzić po dowolnych iteratorach np. po liście"
      ],
      "metadata": {
        "colab": {
          "base_uri": "https://localhost:8080/"
        },
        "id": "4veWyyUFPaDY",
        "outputId": "8fb77a37-b977-40ea-860a-74d7f3d6ceb0"
      },
      "execution_count": null,
      "outputs": [
        {
          "output_type": "stream",
          "name": "stdout",
          "text": [
            "0\n",
            "1\n",
            "2\n",
            "3\n",
            "4\n"
          ]
        }
      ]
    },
    {
      "cell_type": "code",
      "source": [
        "i=1\n",
        "while i<6:\n",
        "  print(i)\n",
        "  i+=1\n",
        "  if i==3:\n",
        "    break"
      ],
      "metadata": {
        "colab": {
          "base_uri": "https://localhost:8080/"
        },
        "id": "Tu678jC3Pii1",
        "outputId": "574a4dac-44db-4c78-b7b4-f35ad0ff1a34"
      },
      "execution_count": null,
      "outputs": [
        {
          "output_type": "stream",
          "name": "stdout",
          "text": [
            "1\n",
            "2\n"
          ]
        }
      ]
    },
    {
      "cell_type": "code",
      "source": [
        "def dodawanie(x,y):\n",
        "  return x+y\n",
        "dodawanie(2,3)"
      ],
      "metadata": {
        "colab": {
          "base_uri": "https://localhost:8080/"
        },
        "id": "14rnqttCbTkX",
        "outputId": "c1d928b4-7d23-468e-b700-918cea1ce91c"
      },
      "execution_count": null,
      "outputs": [
        {
          "output_type": "execute_result",
          "data": {
            "text/plain": [
              "5"
            ]
          },
          "metadata": {},
          "execution_count": 28
        }
      ]
    },
    {
      "cell_type": "code",
      "source": [
        "#funkcja,która nic nie zwraca\n",
        "def mnozeniePrzezDwa():\n",
        "  r=input('Podaj liczbę: ')\n",
        "  print(2*int(r)) #trzeba zamienić na int!\n",
        "\n",
        "mnozeniePrzezDwa()"
      ],
      "metadata": {
        "colab": {
          "base_uri": "https://localhost:8080/"
        },
        "id": "unj55u88bjtk",
        "outputId": "5d38c0fc-a788-42a8-9899-ad01affeb87d"
      },
      "execution_count": null,
      "outputs": [
        {
          "output_type": "stream",
          "name": "stdout",
          "text": [
            "Podaj liczbę: 5\n",
            "10\n"
          ]
        }
      ]
    },
    {
      "cell_type": "code",
      "source": [
        "#funckja anonimowa lambda\n",
        "f=lambda x,y : [x*y,x+y]\n",
        "f(2,3)"
      ],
      "metadata": {
        "colab": {
          "base_uri": "https://localhost:8080/"
        },
        "id": "86ZGJKwUeVPN",
        "outputId": "b067360e-f7d1-436f-88a2-37b852ef271f"
      },
      "execution_count": null,
      "outputs": [
        {
          "output_type": "execute_result",
          "data": {
            "text/plain": [
              "[6, 5]"
            ]
          },
          "metadata": {},
          "execution_count": 35
        }
      ]
    },
    {
      "cell_type": "markdown",
      "source": [
        "### Podstawowe typy danych"
      ],
      "metadata": {
        "id": "DqX7c5e5USTL"
      }
    },
    {
      "cell_type": "code",
      "source": [
        "napis1='Napis pierwszy'\n",
        "napis2=\"Napis drugi\"\n",
        "napis3=\"Powiedział 'nie rób tego'\"\n",
        "napis4='Powiedział \"nie rób tego\"'"
      ],
      "metadata": {
        "id": "SPzCm-HOT-zd"
      },
      "execution_count": null,
      "outputs": []
    },
    {
      "cell_type": "code",
      "source": [
        "print(napis4)"
      ],
      "metadata": {
        "colab": {
          "base_uri": "https://localhost:8080/"
        },
        "id": "CMO3-4y9VJoC",
        "outputId": "ebf817b4-6dda-462d-f225-89762abbfcc2"
      },
      "execution_count": null,
      "outputs": [
        {
          "output_type": "stream",
          "name": "stdout",
          "text": [
            "Powiedział \"nie rób tego\"\n"
          ]
        }
      ]
    },
    {
      "cell_type": "code",
      "source": [
        "type(napis1)"
      ],
      "metadata": {
        "colab": {
          "base_uri": "https://localhost:8080/"
        },
        "id": "MrJEaWxLVLn5",
        "outputId": "a4a37f0f-edaf-4afb-8f96-73cd2aaf8b91"
      },
      "execution_count": null,
      "outputs": [
        {
          "output_type": "execute_result",
          "data": {
            "text/plain": [
              "str"
            ]
          },
          "metadata": {},
          "execution_count": 7
        }
      ]
    },
    {
      "cell_type": "code",
      "source": [
        "a=5\n",
        "type(a)"
      ],
      "metadata": {
        "colab": {
          "base_uri": "https://localhost:8080/"
        },
        "id": "CWzYpt43Vove",
        "outputId": "e20ec89f-774e-4a82-fac5-39f88d05f50c"
      },
      "execution_count": null,
      "outputs": [
        {
          "output_type": "execute_result",
          "data": {
            "text/plain": [
              "int"
            ]
          },
          "metadata": {},
          "execution_count": 8
        }
      ]
    },
    {
      "cell_type": "code",
      "source": [
        "b=3.0\n",
        "type(b)"
      ],
      "metadata": {
        "colab": {
          "base_uri": "https://localhost:8080/"
        },
        "id": "SlJ5RlIcVrHH",
        "outputId": "30ee08d5-4b8d-49cf-c26f-d809d109a1d3"
      },
      "execution_count": null,
      "outputs": [
        {
          "output_type": "execute_result",
          "data": {
            "text/plain": [
              "float"
            ]
          },
          "metadata": {},
          "execution_count": 9
        }
      ]
    },
    {
      "cell_type": "markdown",
      "source": [
        "Listy"
      ],
      "metadata": {
        "id": "eChDEYDgX8Dn"
      }
    },
    {
      "cell_type": "code",
      "source": [
        "lista=[1,2,3]"
      ],
      "metadata": {
        "id": "J5RF2ua0Vy1N"
      },
      "execution_count": null,
      "outputs": []
    },
    {
      "cell_type": "code",
      "source": [
        "lista2=[1,2,3.0,\"tak\"]"
      ],
      "metadata": {
        "id": "BYwaTEt1WWgb"
      },
      "execution_count": null,
      "outputs": []
    },
    {
      "cell_type": "code",
      "source": [
        "lista3=[[1,2],3,4,['jeden','dwa']]"
      ],
      "metadata": {
        "id": "4db-JpWIWcch"
      },
      "execution_count": null,
      "outputs": []
    },
    {
      "cell_type": "code",
      "source": [
        "type(lista3)"
      ],
      "metadata": {
        "colab": {
          "base_uri": "https://localhost:8080/"
        },
        "id": "0L-yHbb4XQao",
        "outputId": "25b17a99-2a40-4b4c-c87f-c9343e9a8fba"
      },
      "execution_count": null,
      "outputs": [
        {
          "output_type": "execute_result",
          "data": {
            "text/plain": [
              "list"
            ]
          },
          "metadata": {},
          "execution_count": 14
        }
      ]
    },
    {
      "cell_type": "code",
      "source": [
        "lista3[1]"
      ],
      "metadata": {
        "colab": {
          "base_uri": "https://localhost:8080/"
        },
        "id": "8dWB_mKyXSYp",
        "outputId": "3b919221-188c-4fb7-822e-28573bd0d2f1"
      },
      "execution_count": null,
      "outputs": [
        {
          "output_type": "execute_result",
          "data": {
            "text/plain": [
              "3"
            ]
          },
          "metadata": {},
          "execution_count": 15
        }
      ]
    },
    {
      "cell_type": "code",
      "source": [
        "lista3[-1]"
      ],
      "metadata": {
        "colab": {
          "base_uri": "https://localhost:8080/",
          "height": 165
        },
        "id": "ymiMxVyWhojp",
        "outputId": "b21378b5-365c-49c7-ab50-fb82458d25cd"
      },
      "execution_count": null,
      "outputs": [
        {
          "output_type": "error",
          "ename": "NameError",
          "evalue": "ignored",
          "traceback": [
            "\u001b[0;31m---------------------------------------------------------------------------\u001b[0m",
            "\u001b[0;31mNameError\u001b[0m                                 Traceback (most recent call last)",
            "\u001b[0;32m<ipython-input-37-c7149f4297a5>\u001b[0m in \u001b[0;36m<module>\u001b[0;34m()\u001b[0m\n\u001b[0;32m----> 1\u001b[0;31m \u001b[0mlista3\u001b[0m\u001b[0;34m[\u001b[0m\u001b[0;34m-\u001b[0m\u001b[0;36m1\u001b[0m\u001b[0;34m]\u001b[0m\u001b[0;34m\u001b[0m\u001b[0;34m\u001b[0m\u001b[0m\n\u001b[0m",
            "\u001b[0;31mNameError\u001b[0m: name 'lista3' is not defined"
          ]
        }
      ]
    },
    {
      "cell_type": "code",
      "source": [
        "lista3[1]=['nowa lista z jednym napisem']"
      ],
      "metadata": {
        "id": "svBRVOwUXVqc"
      },
      "execution_count": null,
      "outputs": []
    },
    {
      "cell_type": "code",
      "source": [
        "lista3"
      ],
      "metadata": {
        "colab": {
          "base_uri": "https://localhost:8080/"
        },
        "id": "XqoQi4arXbcP",
        "outputId": "c5ecc2ef-d008-4684-d33d-8687156fba64"
      },
      "execution_count": null,
      "outputs": [
        {
          "output_type": "execute_result",
          "data": {
            "text/plain": [
              "[[1, 2], ['nowa lista z jednym napisem'], 4, ['jeden', 'dwa']]"
            ]
          },
          "metadata": {},
          "execution_count": 17
        }
      ]
    },
    {
      "cell_type": "code",
      "source": [
        "len(lista2)"
      ],
      "metadata": {
        "colab": {
          "base_uri": "https://localhost:8080/"
        },
        "id": "EKqwzHIBXcHy",
        "outputId": "c1a76b7a-2fb0-4a8c-807f-c444cc323091"
      },
      "execution_count": null,
      "outputs": [
        {
          "output_type": "execute_result",
          "data": {
            "text/plain": [
              "4"
            ]
          },
          "metadata": {},
          "execution_count": 5
        }
      ]
    },
    {
      "cell_type": "code",
      "source": [
        "list(range(5))"
      ],
      "metadata": {
        "colab": {
          "base_uri": "https://localhost:8080/"
        },
        "id": "Jn4bJ2mAY_we",
        "outputId": "971b6c19-6d53-46ff-a92a-58a8dbcb96ab"
      },
      "execution_count": null,
      "outputs": [
        {
          "output_type": "execute_result",
          "data": {
            "text/plain": [
              "[0, 1, 2, 3, 4]"
            ]
          },
          "metadata": {},
          "execution_count": 1
        }
      ]
    },
    {
      "cell_type": "code",
      "source": [
        "list(range(3,5))"
      ],
      "metadata": {
        "colab": {
          "base_uri": "https://localhost:8080/"
        },
        "id": "W95qATCGCl2H",
        "outputId": "c82a1830-9d19-46b7-a1cf-1a3e320eb8e3"
      },
      "execution_count": null,
      "outputs": [
        {
          "output_type": "execute_result",
          "data": {
            "text/plain": [
              "[3, 4]"
            ]
          },
          "metadata": {},
          "execution_count": 6
        }
      ]
    },
    {
      "cell_type": "code",
      "source": [
        "lista5=list(range(0,10,3))"
      ],
      "metadata": {
        "id": "rkt9oByLDP9u"
      },
      "execution_count": null,
      "outputs": []
    },
    {
      "cell_type": "code",
      "source": [
        "lista5.sort(reverse=True)\n",
        "lista5"
      ],
      "metadata": {
        "colab": {
          "base_uri": "https://localhost:8080/"
        },
        "id": "53pnF8xjImK4",
        "outputId": "57ff8962-4d68-4087-e58a-be0d0ee11c61"
      },
      "execution_count": null,
      "outputs": [
        {
          "output_type": "execute_result",
          "data": {
            "text/plain": [
              "[9, 6, 3, 0]"
            ]
          },
          "metadata": {},
          "execution_count": 16
        }
      ]
    },
    {
      "cell_type": "code",
      "source": [
        "lista5.append(22)\n",
        "lista5"
      ],
      "metadata": {
        "colab": {
          "base_uri": "https://localhost:8080/"
        },
        "id": "Ipacoq-eJ6Mz",
        "outputId": "794bce26-7bd6-49a1-a8bf-6b7b94709e36"
      },
      "execution_count": null,
      "outputs": [
        {
          "output_type": "execute_result",
          "data": {
            "text/plain": [
              "[9, 6, 3, 0, 22, 22, 22]"
            ]
          },
          "metadata": {},
          "execution_count": 19
        }
      ]
    },
    {
      "cell_type": "markdown",
      "source": [
        "#### Zadanie 7\n",
        "Wygeneruj i wyświetl zawartość listy:\n",
        "* zawierającej liczby całkowite z zakresu od $−3$ do $6$ (z końcami),\n",
        "* zawierającej liczby parzyste z przedziału $[0, 15]$,\n",
        "* zawierającej liczby niedodatnie, podzielne przez $3$ z przedziełu $[-15, 0]$ ustawione w kolejności malejącej.\n",
        "\n",
        "#### Zadanie 8\n",
        "Niech $L = [1, 3, 5, 7, 8, 10, 15, 77, 150]$. Przygotuj program, który wygeneruje listę, która:\n",
        "\n",
        "1. zawiera kwadraty liczb z listy $L$,\n",
        "\n",
        "1. zawiera wartości funkcji $f (x) = x/(x-2)$ dla $x$ z listy $L$ (na dwa sposoby - jeden z wykorzystaniem lambda wyrażenia),\n",
        "\n",
        "1. zawiera tylko liczby podzielne przez $3$ z listy $L$,\n",
        "\n",
        "1. zawiera tylko liczby podzielne przez $3$, ale niepodzielne przez $5$ z listy $L$.\n",
        "\n",
        "#### Zadanie 9\n",
        "Oblicz wartości funkcji $f(x)=x^2$ dla liczb $0.1, 0.2, \\ldots, 0.9, 1$.\n",
        "\n",
        "#### Zadanie 10\n",
        "Wygeneruj losowo listę $L$ zawierającą $15$ liczb całkowitych z przedziału $[0,10]$. Wypisz jej elementy:\n",
        "\n",
        "1.  oddzielając kolejne wyrazy znakiem nowej linii,\n",
        "\n",
        "2.  oddzielając kolejne wyrazy spacją.\n",
        "\n",
        "#### Zadanie 11\n",
        "Niech $L1 = [\"1\", \"10\", \"2\", \"15\", \"22\", \"112\"]$ oraz $L2 = [\"0.5\", \"1\", \"15\", \"22.4\", \"22\", \"211\"]$.\n",
        "\n",
        "Posortuj listy $L1$ i $L2$ zgodnie z wartościami zapisanych liczb (a nie leksykograficznie). Stwórz Listę $L3$, która będzie zawierała wartości liczbowe utworzone poprzez konkatenację napisów z posortowanych list $L1$ oraz $L2$.\n",
        "\n",
        "#### Zadanie 12\n",
        "Zaimplementuj algorytm sortowania bąbelkowego.\n",
        "\n"
      ],
      "metadata": {
        "id": "tbzDJ6SSLBel"
      }
    },
    {
      "cell_type": "code",
      "source": [
        "#Zadnie 10\n",
        "import random\n",
        "L=[random.randint(0,10) for i in range(15)]\n",
        "for el in L:\n",
        "  print(el, end=' ')"
      ],
      "metadata": {
        "colab": {
          "base_uri": "https://localhost:8080/"
        },
        "id": "8wH4X-T2gvU1",
        "outputId": "1cb2656b-e1da-4a45-9b35-2b4e87fc39bb"
      },
      "execution_count": null,
      "outputs": [
        {
          "output_type": "stream",
          "name": "stdout",
          "text": [
            "2 4 4 0 2 4 10 6 0 1 1 0 4 7 9 "
          ]
        }
      ]
    },
    {
      "cell_type": "code",
      "source": [
        "#Zadanie 11\n",
        "L1 = [\"1\", \"10\", \"2\", \"15\", \"22\", \"112\"]\n",
        "L2 = [\"0.5\", \"1\", \"15\", \"22.4\", \"22\", \"211\"]\n",
        "\n",
        "L1.sort(key=int)\n",
        "L2.sort(key=float)\n",
        "L3=[float(e1+e2) for e1,e2 in zip(L1,L2)]\n",
        "L3\n"
      ],
      "metadata": {
        "colab": {
          "base_uri": "https://localhost:8080/"
        },
        "id": "1tZtaSmGkOJ1",
        "outputId": "25057a9b-45d7-4742-e559-38e7fa899009"
      },
      "execution_count": null,
      "outputs": [
        {
          "output_type": "execute_result",
          "data": {
            "text/plain": [
              "[10.5, 21.0, 1015.0, 1522.0, 2222.4, 112211.0]"
            ]
          },
          "metadata": {},
          "execution_count": 66
        }
      ]
    },
    {
      "cell_type": "markdown",
      "source": [
        "Zbiory"
      ],
      "metadata": {
        "id": "H8iAFTxnnnOZ"
      }
    },
    {
      "cell_type": "code",
      "source": [
        "zbior={1,2,3,\"Daniel\"}\n",
        "#zbior[1] #Nie ma kolejności w zbiorach\n",
        "zbior2={'jeż','kot','pies','jeż'}\n",
        "len(zbior2)"
      ],
      "metadata": {
        "colab": {
          "base_uri": "https://localhost:8080/"
        },
        "id": "FAqt-tJ8noWP",
        "outputId": "b19cb9d3-1d0e-4c6f-aa4e-4116d17b2a02"
      },
      "execution_count": null,
      "outputs": [
        {
          "output_type": "execute_result",
          "data": {
            "text/plain": [
              "3"
            ]
          },
          "metadata": {},
          "execution_count": 72
        }
      ]
    },
    {
      "cell_type": "code",
      "source": [
        "set(lista2) #konstruktor z listy"
      ],
      "metadata": {
        "colab": {
          "base_uri": "https://localhost:8080/"
        },
        "id": "x8pqtrLyoRiP",
        "outputId": "c4a26585-e2ed-4597-821a-2481e3c1509f"
      },
      "execution_count": null,
      "outputs": [
        {
          "output_type": "execute_result",
          "data": {
            "text/plain": [
              "{1, 2, 3.0, 'tak'}"
            ]
          },
          "metadata": {},
          "execution_count": 73
        }
      ]
    },
    {
      "cell_type": "code",
      "source": [
        "'kot' in zbior2"
      ],
      "metadata": {
        "colab": {
          "base_uri": "https://localhost:8080/"
        },
        "id": "0DN5uotZobH9",
        "outputId": "e4a101fa-0e12-4f73-c2a9-074986afa44c"
      },
      "execution_count": null,
      "outputs": [
        {
          "output_type": "execute_result",
          "data": {
            "text/plain": [
              "True"
            ]
          },
          "metadata": {},
          "execution_count": 74
        }
      ]
    },
    {
      "cell_type": "code",
      "source": [
        "zbior2.add('lew')"
      ],
      "metadata": {
        "id": "6wGzLtMEotXn"
      },
      "execution_count": null,
      "outputs": []
    },
    {
      "cell_type": "code",
      "source": [
        "zbior2.update(zbior)\n",
        "zbior2"
      ],
      "metadata": {
        "colab": {
          "base_uri": "https://localhost:8080/"
        },
        "id": "ZrEkjZxIo3cT",
        "outputId": "77d5a2c3-5c4e-4202-c4f8-eaced984ef26"
      },
      "execution_count": null,
      "outputs": [
        {
          "output_type": "execute_result",
          "data": {
            "text/plain": [
              "{1, 2, 3, 'Daniel', 'jeż', 'kot', 'lew', 'pies'}"
            ]
          },
          "metadata": {},
          "execution_count": 77
        }
      ]
    },
    {
      "cell_type": "code",
      "source": [
        "zbior3={1,2}\n",
        "print(zbior3.union(zbior2))\n",
        "print(zbior3) #union nie zmienia zbioru, a tworzy nowy"
      ],
      "metadata": {
        "colab": {
          "base_uri": "https://localhost:8080/"
        },
        "id": "jSkkf9bcpZ1M",
        "outputId": "aa380da4-330c-409b-f85e-2bda58d62f0e"
      },
      "execution_count": null,
      "outputs": [
        {
          "output_type": "execute_result",
          "data": {
            "text/plain": [
              "{1, 2, 3, 'Daniel', 'jeż', 'kot', 'lew', 'pies'}"
            ]
          },
          "metadata": {},
          "execution_count": 78
        }
      ]
    },
    {
      "cell_type": "code",
      "source": [
        "zbior3.intersection(zbior2)"
      ],
      "metadata": {
        "colab": {
          "base_uri": "https://localhost:8080/"
        },
        "id": "UNmAK4a-piMz",
        "outputId": "3fddd553-b62f-4621-a7c4-ae8bfe9640e6"
      },
      "execution_count": null,
      "outputs": [
        {
          "output_type": "execute_result",
          "data": {
            "text/plain": [
              "{1, 2}"
            ]
          },
          "metadata": {},
          "execution_count": 81
        }
      ]
    },
    {
      "cell_type": "markdown",
      "source": [
        "#### Zadanie 13\n",
        "Dane są dwie listy upodobań:\n",
        "\n",
        "Jarek = ['koty', 'dobrze zjesc', 'piwo', 'bose spacery po trawie', 'pilka nozna'],\n",
        "\n",
        "Marek = ['piwo', 'psy', 'dobrze zjesc', 'siatkowka', 'seriale'].\n",
        "\n",
        "Na ich podstawie:\n",
        "\n",
        "1.  przygotuj zbiory $Jarek$ i $Marek$, i wyświetl ich zawartość,\n",
        "\n",
        "2.  oblicz sumę ich upodobań, to co wspólnie lubią, to co lubi tylko Jarek, to co lubi tylko Marek i wyświetl ich zawartości,\n",
        "\n",
        "3. zamień zbiór $Jarek$ na listę i wyświetl jej zawartość."
      ],
      "metadata": {
        "id": "2-O1V7kBp2eN"
      }
    },
    {
      "cell_type": "markdown",
      "source": [
        "Słowniki"
      ],
      "metadata": {
        "id": "Pp20w6YtX-Di"
      }
    },
    {
      "cell_type": "code",
      "source": [
        "slownik={\"jeden\":\"one\", \"dwa\":\"two\", \"wiek\":20}"
      ],
      "metadata": {
        "id": "UZDrhlQCXqFa"
      },
      "execution_count": null,
      "outputs": []
    },
    {
      "cell_type": "code",
      "source": [
        "slownik[\"dwa\"]"
      ],
      "metadata": {
        "colab": {
          "base_uri": "https://localhost:8080/",
          "height": 35
        },
        "id": "dsZdb7a8YNJv",
        "outputId": "0941d354-bcad-4db3-f827-c78b1a11ec95"
      },
      "execution_count": null,
      "outputs": [
        {
          "output_type": "execute_result",
          "data": {
            "application/vnd.google.colaboratory.intrinsic+json": {
              "type": "string"
            },
            "text/plain": [
              "'two'"
            ]
          },
          "metadata": {},
          "execution_count": 91
        }
      ]
    },
    {
      "cell_type": "code",
      "source": [
        "slownik.get('dwa')"
      ],
      "metadata": {
        "colab": {
          "base_uri": "https://localhost:8080/",
          "height": 35
        },
        "id": "2IZSV2ZOwnaH",
        "outputId": "8d4c0ef4-e05d-4cbf-868e-082a0d7614fa"
      },
      "execution_count": null,
      "outputs": [
        {
          "output_type": "execute_result",
          "data": {
            "application/vnd.google.colaboratory.intrinsic+json": {
              "type": "string"
            },
            "text/plain": [
              "'two'"
            ]
          },
          "metadata": {},
          "execution_count": 92
        }
      ]
    },
    {
      "cell_type": "code",
      "source": [
        "slownik.keys()"
      ],
      "metadata": {
        "colab": {
          "base_uri": "https://localhost:8080/"
        },
        "id": "YtUEuhi0YW5_",
        "outputId": "7f276844-a541-45f3-a037-616eebe13cd4"
      },
      "execution_count": null,
      "outputs": [
        {
          "output_type": "execute_result",
          "data": {
            "text/plain": [
              "dict_keys(['jeden', 'dwa', 'wiek'])"
            ]
          },
          "metadata": {},
          "execution_count": 23
        }
      ]
    },
    {
      "cell_type": "code",
      "source": [
        "slownik.items()"
      ],
      "metadata": {
        "colab": {
          "base_uri": "https://localhost:8080/"
        },
        "id": "IzzOh8cYYaSR",
        "outputId": "090783bc-d72c-4f5d-f665-68a956ec432b"
      },
      "execution_count": null,
      "outputs": [
        {
          "output_type": "execute_result",
          "data": {
            "text/plain": [
              "dict_items([('jeden', 'one'), ('dwa', 'two'), ('wiek', 20)])"
            ]
          },
          "metadata": {},
          "execution_count": 25
        }
      ]
    },
    {
      "cell_type": "code",
      "source": [
        "slownik[\"wiek\"]=50"
      ],
      "metadata": {
        "id": "csUx1ZjdYcHu"
      },
      "execution_count": null,
      "outputs": []
    },
    {
      "cell_type": "code",
      "source": [
        "slownik"
      ],
      "metadata": {
        "colab": {
          "base_uri": "https://localhost:8080/"
        },
        "id": "DLBpuaQTYrIR",
        "outputId": "e45e604f-4087-4554-8f00-9f9fcd0e277c"
      },
      "execution_count": null,
      "outputs": [
        {
          "output_type": "execute_result",
          "data": {
            "text/plain": [
              "{'dwa': 'two', 'jeden': 'one', 'wiek': 50}"
            ]
          },
          "metadata": {},
          "execution_count": 27
        }
      ]
    },
    {
      "cell_type": "markdown",
      "source": [
        "#### Zadanie 14\n",
        "Dany jest słownik student={'imie':'Jan', 'nazwisko':'kowalski','wiek':25, 'wzrost':188, 'waga':80, 'miasto':'Toruń'}\n",
        "\n",
        "* Wypisz jego elementy w postaci \"klucz -> wartość \"\n",
        "* Zmień 'wzrost' na 182 \n",
        "* Dodaj klucz 'wynik matury' z dowolną wartością\n",
        "* Usuń klucz (i wartość) 'miasto'"
      ],
      "metadata": {
        "id": "XUJAddblwzLx"
      }
    },
    {
      "cell_type": "code",
      "source": [
        "student={'imie':'Jan', 'nazwisko':'kowalski','wiek':25, 'wzrost':188, 'waga':80, 'miasto':'Toruń', 'wynik matury':100}\n",
        "student['imie']"
      ],
      "metadata": {
        "colab": {
          "base_uri": "https://localhost:8080/",
          "height": 35
        },
        "id": "BzhZi0syYsE7",
        "outputId": "514bad2d-7617-4b03-b43c-3ce8fa3f2da9"
      },
      "execution_count": null,
      "outputs": [
        {
          "output_type": "execute_result",
          "data": {
            "application/vnd.google.colaboratory.intrinsic+json": {
              "type": "string"
            },
            "text/plain": [
              "'Jan'"
            ]
          },
          "metadata": {},
          "execution_count": 97
        }
      ]
    },
    {
      "cell_type": "markdown",
      "source": [
        "#### Zadanie 15\n",
        "Dane są dwie listy \n",
        "* klucze=['klucz1','klucz2','inny klucz', 'test']\n",
        "* wartosci=[1,2,5,1]\n",
        "\n",
        "Utwórz w sposób zautomatyzowany (nie ręcznie) słownik, który kolejnym kluczom przypisze kolejne wartości."
      ],
      "metadata": {
        "id": "huIqGWEXmrbP"
      }
    },
    {
      "cell_type": "markdown",
      "source": [
        "#### Zadanie 16\n",
        "Napisz funkcję obliczającą $n$-ty wyraz ciągu zadanego rekurencyjnie\n",
        "1. $a_0=1$, $a_{k+1}=2a_k$ dla $k\\geq 0$\n",
        "2. $b_0=0$, $b_1=1$, $b_{k+2}=b_{k+1}+b_k$ dla $k\\geq 0$\n",
        "3. $c_0=5$, $c_{k+1}=c_k+\\frac{1}{c_k}$."
      ],
      "metadata": {
        "id": "-JaHTKilldUH"
      }
    },
    {
      "cell_type": "markdown",
      "source": [
        "### Zadanie domowe lab1\n",
        "Przygotuj w CoLab dokument, który będzie zawierał tytuł oraz cztery sekcje (nazwij je dowolnie). W pierwszej sekcji umieść skrypt, który zapyta Cię o imię, a następnie przywita Cię po imieniu. W drugiej skecji wstaw (w polu komentarza) kod tego skryptu. W trzeciej umieść dowolny obrazek. \n",
        "\n",
        "W czwartej sekcji napisz **funkcję** bezargumentową o nazwie listownik(), która\n",
        "* zapyta o długośc listy, która musi znaleźć się w przedziale $[10,20]$ (przypilnuj użytkownika)\n",
        "* wygeneruje  i wydrukuje listę o odpowiedniej długości z liczbami losowymi  przedziału $[0,10]$\n",
        "* **zwróci** liczbę unikalnych wartości w wygenerowanej liście\n",
        "\n",
        "W rozwiązaniu można korzystać z funkcji pomocniczych.\n",
        "\n",
        "Nazwij plik zadDomowe.ipynb i umieść w repozytorium do zajęć pierwszych."
      ],
      "metadata": {
        "id": "B5LNMjoqEy1T"
      }
    },
    {
      "cell_type": "code",
      "source": [
        ""
      ],
      "metadata": {
        "id": "Y4MmjTMFsIKF"
      },
      "execution_count": null,
      "outputs": []
    }
  ]
}