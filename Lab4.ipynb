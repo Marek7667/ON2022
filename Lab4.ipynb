{
  "nbformat": 4,
  "nbformat_minor": 0,
  "metadata": {
    "colab": {
      "name": "ON-lab4-live.ipynb",
      "provenance": []
    },
    "kernelspec": {
      "name": "python3",
      "display_name": "Python 3"
    },
    "language_info": {
      "name": "python"
    }
  },
  "cells": [
    {
      "cell_type": "markdown",
      "source": [
        "# Laboratorium "
      ],
      "metadata": {
        "id": "8guPCTNIWWWj"
      }
    },
    {
      "cell_type": "markdown",
      "source": [
        ""
      ],
      "metadata": {
        "id": "34nmKPnkbhHv"
      }
    },
    {
      "cell_type": "code",
      "source": [
        "import numpy as np"
      ],
      "metadata": {
        "id": "9o-PMVBsbhlk"
      },
      "execution_count": 1,
      "outputs": []
    },
    {
      "cell_type": "code",
      "source": [
        ""
      ],
      "metadata": {
        "id": "6xKKycCVbiFt"
      },
      "execution_count": null,
      "outputs": []
    },
    {
      "cell_type": "markdown",
      "source": [
        "#### Zadanie 1\n",
        "Napisz metodę, która oblicza pole między osią OX a wykresem funkcji na danym przedziale za pomocą sum Riemanna (przybliżeń prostokątami). Sprawdź jej działanie na wybranej przez siebie funkcji porównując z wynikiem całkownia symbolicznego. \n",
        "\n",
        "Korzystając z symbolicznych pochodnych i szukania ekstremów dobierz takie parametry do swojej funkcji, aby błąd całkowania był mniejszy niż $10^{-5}$.\n"
      ],
      "metadata": {
        "id": "GjTceg1Pa0Yq"
      }
    },
    {
      "cell_type": "code",
      "source": [
        "np.linspace(0,1,10)"
      ],
      "metadata": {
        "colab": {
          "base_uri": "https://localhost:8080/"
        },
        "id": "safg-qIna1W_",
        "outputId": "e69f5050-35ac-4943-9c50-aedd3a78d2cf"
      },
      "execution_count": null,
      "outputs": [
        {
          "output_type": "execute_result",
          "data": {
            "text/plain": [
              "array([0.        , 0.11111111, 0.22222222, 0.33333333, 0.44444444,\n",
              "       0.55555556, 0.66666667, 0.77777778, 0.88888889, 1.        ])"
            ]
          },
          "metadata": {},
          "execution_count": 2
        }
      ]
    },
    {
      "cell_type": "code",
      "source": [
        "def calka(funkcja,a,b,N):\n",
        "  podzial=np.linspace(a,b,N)\n",
        "  podstawa=(b-a)/(N-1)\n",
        "  wartosc=0\n",
        "  for i in range(N-1):\n",
        "    wartosc+=podstawa*abs(funkcja(podzial[i]))\n",
        "  return wartosc\n"
      ],
      "metadata": {
        "id": "LeNtvPNXa1lG"
      },
      "execution_count": null,
      "outputs": []
    },
    {
      "cell_type": "code",
      "source": [
        "calka(lambda x:x**2,0,1,1000)"
      ],
      "metadata": {
        "colab": {
          "base_uri": "https://localhost:8080/"
        },
        "id": "ggkUU_wSa1oZ",
        "outputId": "95dde9b4-9246-44bf-b482-b1d8607e5579"
      },
      "execution_count": null,
      "outputs": [
        {
          "output_type": "execute_result",
          "data": {
            "text/plain": [
              "0.33283299983333353"
            ]
          },
          "metadata": {},
          "execution_count": 7
        }
      ]
    },
    {
      "cell_type": "code",
      "source": [
        ""
      ],
      "metadata": {
        "id": "dkZqz7Gea1rz"
      },
      "execution_count": null,
      "outputs": []
    },
    {
      "cell_type": "code",
      "source": [
        ""
      ],
      "metadata": {
        "id": "TSTpE_aga1xO"
      },
      "execution_count": null,
      "outputs": []
    },
    {
      "cell_type": "markdown",
      "source": [
        "#### Zadanie 2\n",
        "a) Zaimplementuj w postaci funkcji algorytm obliczania pierwiastka kwadratowego z $x>0$ z wykorzystaniem algorytmu Herona. Funkcja powinna przyjmować jako argumenty liczby: $x$, punkt startowy $x_0$ oraz liczbę kroków (wyrazów ciągu do obliczenia).\n",
        "\n",
        "b) Następnie, dodaj argument show_step (domyślnie ustawiony jako False), który będzie pozwalał wyświetlać kolejne kroki przybliżenia aż do zadanego.\n",
        "\n",
        "c) Na bazie a) stwórz nową funkcję, która wykona odpowiednią liczbę kroków by przybliżenie miało podaną dokładność"
      ],
      "metadata": {
        "id": "lifT1qX3a19e"
      }
    },
    {
      "cell_type": "code",
      "source": [
        ""
      ],
      "metadata": {
        "id": "J9ezM3OYa6dM"
      },
      "execution_count": null,
      "outputs": []
    },
    {
      "cell_type": "code",
      "source": [
        ""
      ],
      "metadata": {
        "id": "cYrng8gda6fh"
      },
      "execution_count": null,
      "outputs": []
    },
    {
      "cell_type": "code",
      "source": [
        ""
      ],
      "metadata": {
        "id": "dQuBkFDQa6ho"
      },
      "execution_count": null,
      "outputs": []
    },
    {
      "cell_type": "code",
      "source": [
        ""
      ],
      "metadata": {
        "id": "mgHNDaiza6kV"
      },
      "execution_count": null,
      "outputs": []
    },
    {
      "cell_type": "markdown",
      "source": [
        "# NumPy\n",
        "\n",
        "np.ndarray (N-dimensional array)\n",
        "\n",
        "Najważniejsze atrybuty:\n",
        "* shape\n",
        "* ndim\n",
        "* size\n",
        "* dtype (int,float,bool,complex)\n",
        "* nbytes\n"
      ],
      "metadata": {
        "id": "eXGnYtina6wf"
      }
    },
    {
      "cell_type": "code",
      "source": [
        "tab=np.array([[1,2],[3,4],[4,1]])"
      ],
      "metadata": {
        "id": "0Dltuhwva_gN"
      },
      "execution_count": null,
      "outputs": []
    },
    {
      "cell_type": "code",
      "source": [
        "tab.nbytes"
      ],
      "metadata": {
        "colab": {
          "base_uri": "https://localhost:8080/"
        },
        "id": "FjxTxSyOa_iu",
        "outputId": "6d704bd3-cd3e-4407-a424-c8b021070ec2"
      },
      "execution_count": null,
      "outputs": [
        {
          "output_type": "execute_result",
          "data": {
            "text/plain": [
              "48"
            ]
          },
          "metadata": {},
          "execution_count": 11
        }
      ]
    },
    {
      "cell_type": "code",
      "source": [
        ""
      ],
      "metadata": {
        "id": "w0LsA57Fpc8P"
      },
      "execution_count": null,
      "outputs": []
    },
    {
      "cell_type": "code",
      "source": [
        ""
      ],
      "metadata": {
        "id": "wd_TqjE2a_lT"
      },
      "execution_count": null,
      "outputs": []
    },
    {
      "cell_type": "markdown",
      "source": [
        "#### Zadanie 3\n",
        "\n",
        "Stwórz dowolną tablicę liczb całkowitych ndarray z zagnieżdżonej listy. Sprawdź jej różne atrybuty. Spróbuj zamienić wszystkie liczby całkowite na zmiennoprzecinkowe."
      ],
      "metadata": {
        "id": "Sqbettf7a_vl"
      }
    },
    {
      "cell_type": "code",
      "source": [
        "tab2=np.array(tab,dtype=float)"
      ],
      "metadata": {
        "id": "njXHIMDNbC-5"
      },
      "execution_count": null,
      "outputs": []
    },
    {
      "cell_type": "code",
      "source": [
        "tab2"
      ],
      "metadata": {
        "colab": {
          "base_uri": "https://localhost:8080/"
        },
        "id": "lP_lPC0HbDHa",
        "outputId": "ea037007-a15c-4dd2-8238-eca0f7d07685"
      },
      "execution_count": null,
      "outputs": [
        {
          "output_type": "execute_result",
          "data": {
            "text/plain": [
              "array([[1., 2.],\n",
              "       [3., 4.],\n",
              "       [4., 1.]])"
            ]
          },
          "metadata": {},
          "execution_count": 13
        }
      ]
    },
    {
      "cell_type": "code",
      "source": [
        "tab3=np.array([-1,0,1])"
      ],
      "metadata": {
        "id": "lBWc4REfbDM9"
      },
      "execution_count": null,
      "outputs": []
    },
    {
      "cell_type": "code",
      "source": [
        "np.sqrt(tab3)"
      ],
      "metadata": {
        "colab": {
          "base_uri": "https://localhost:8080/"
        },
        "id": "mVfCh49DbDPu",
        "outputId": "02d9d736-8df8-4c66-ab6d-5f8296074a36"
      },
      "execution_count": null,
      "outputs": [
        {
          "output_type": "stream",
          "name": "stderr",
          "text": [
            "/usr/local/lib/python3.7/dist-packages/ipykernel_launcher.py:1: RuntimeWarning: invalid value encountered in sqrt\n",
            "  \"\"\"Entry point for launching an IPython kernel.\n"
          ]
        },
        {
          "output_type": "execute_result",
          "data": {
            "text/plain": [
              "array([nan,  0.,  1.])"
            ]
          },
          "metadata": {},
          "execution_count": 15
        }
      ]
    },
    {
      "cell_type": "code",
      "source": [
        "tab4=tab3.astype(complex)\n",
        "tab4\n",
        "np.sqrt(tab4).imag"
      ],
      "metadata": {
        "colab": {
          "base_uri": "https://localhost:8080/"
        },
        "id": "VkHzYMQGq3_i",
        "outputId": "c4c41319-1da5-4f8e-87bd-41a083c8813e"
      },
      "execution_count": null,
      "outputs": [
        {
          "output_type": "execute_result",
          "data": {
            "text/plain": [
              "array([1., 0., 0.])"
            ]
          },
          "metadata": {},
          "execution_count": 19
        }
      ]
    },
    {
      "cell_type": "markdown",
      "source": [
        "### Konstruktory:\n",
        "* np.array - tworzy z różnych tablicopodobnych typów\n",
        "* np.zeros - same zera\n",
        "* np.ones - same jedynki\n",
        "* np.eye - macierz identycznościowa\n",
        "* np.diag - macierz z elementami na przekątnej\n",
        "\n",
        "* **!** np.linspace(start,koniec (domknięty),liczba elementów)\n",
        "* **!** np.arange(start,koniec (otwarty),krok)\n",
        "* np.meshgrid - tworzy siatkę punktów z pojedynczych wektorów) - zwraca tablice poszczególnych współrzędnych\n",
        "\n",
        "from scipy.linalg import block_diag"
      ],
      "metadata": {
        "id": "KoXWs5OxbDYG"
      }
    },
    {
      "cell_type": "code",
      "source": [
        "np.zeros((3,3))"
      ],
      "metadata": {
        "colab": {
          "base_uri": "https://localhost:8080/"
        },
        "id": "wdlAhUswbNqu",
        "outputId": "cbcd2c7e-8ee0-4140-a352-f0f1b8f039d8"
      },
      "execution_count": null,
      "outputs": [
        {
          "output_type": "execute_result",
          "data": {
            "text/plain": [
              "array([[0., 0., 0.],\n",
              "       [0., 0., 0.],\n",
              "       [0., 0., 0.]])"
            ]
          },
          "metadata": {},
          "execution_count": 22
        }
      ]
    },
    {
      "cell_type": "code",
      "source": [
        "np.meshgrid([1,2,3],['a','b','c'])"
      ],
      "metadata": {
        "colab": {
          "base_uri": "https://localhost:8080/"
        },
        "id": "mdplm_EAbNth",
        "outputId": "5f3df1f3-0e08-47c0-bd0b-88e7bca094b3"
      },
      "execution_count": null,
      "outputs": [
        {
          "output_type": "execute_result",
          "data": {
            "text/plain": [
              "[array([[1, 2, 3],\n",
              "        [1, 2, 3],\n",
              "        [1, 2, 3]]), array([['a', 'a', 'a'],\n",
              "        ['b', 'b', 'b'],\n",
              "        ['c', 'c', 'c']], dtype='<U1')]"
            ]
          },
          "metadata": {},
          "execution_count": 23
        }
      ]
    },
    {
      "cell_type": "code",
      "source": [
        ""
      ],
      "metadata": {
        "id": "0_omjkT5bNvQ"
      },
      "execution_count": null,
      "outputs": []
    },
    {
      "cell_type": "code",
      "source": [
        ""
      ],
      "metadata": {
        "id": "VPpiItAXbNxq"
      },
      "execution_count": null,
      "outputs": []
    },
    {
      "cell_type": "markdown",
      "source": [
        "#### Zadanie 4\n",
        "Skonstruuj macierz:\n",
        "$$\n",
        "Mat1=\\begin{bmatrix}\n",
        "1 &1 &0&0&0&0&0\\\\\n",
        "1&1&0&0&0&0&0\\\\\n",
        "0&0&0&0&0&0&0 \\\\\n",
        "0&0&0&0&0&0&0 \\\\\n",
        "0&0&0&0&3&0&0 \\\\\n",
        "0&0&0&0&0&2&4 \\\\\n",
        "0&0&0&0&0&4&2 \\\\\n",
        "\\end{bmatrix}\n",
        "$$"
      ],
      "metadata": {
        "id": "z3gAwg2MbN-i"
      }
    },
    {
      "cell_type": "code",
      "source": [
        "from scipy.linalg import block_diag\n",
        "Mat1=block_diag(np.ones((2,2)),np.zeros((2,2)),3,(4*np.ones((2,2))-2*np.eye(2)))\n",
        "Mat1"
      ],
      "metadata": {
        "colab": {
          "base_uri": "https://localhost:8080/"
        },
        "id": "t4byIDxebQVb",
        "outputId": "acfd009e-b03a-45b3-8dc6-7193310f24d4"
      },
      "execution_count": 2,
      "outputs": [
        {
          "output_type": "execute_result",
          "data": {
            "text/plain": [
              "array([[1., 1., 0., 0., 0., 0., 0.],\n",
              "       [1., 1., 0., 0., 0., 0., 0.],\n",
              "       [0., 0., 0., 0., 0., 0., 0.],\n",
              "       [0., 0., 0., 0., 0., 0., 0.],\n",
              "       [0., 0., 0., 0., 3., 0., 0.],\n",
              "       [0., 0., 0., 0., 0., 2., 4.],\n",
              "       [0., 0., 0., 0., 0., 4., 2.]])"
            ]
          },
          "metadata": {},
          "execution_count": 2
        }
      ]
    },
    {
      "cell_type": "code",
      "source": [
        "Mat1[0,0]=3"
      ],
      "metadata": {
        "id": "3N0RVAPbbQYw"
      },
      "execution_count": 3,
      "outputs": []
    },
    {
      "cell_type": "code",
      "source": [
        "Mat1"
      ],
      "metadata": {
        "colab": {
          "base_uri": "https://localhost:8080/"
        },
        "id": "L642lhZRbQcD",
        "outputId": "175fc35e-40b4-4421-f05d-5d0e9ae6b455"
      },
      "execution_count": 4,
      "outputs": [
        {
          "output_type": "execute_result",
          "data": {
            "text/plain": [
              "array([[3., 1., 0., 0., 0., 0., 0.],\n",
              "       [1., 1., 0., 0., 0., 0., 0.],\n",
              "       [0., 0., 0., 0., 0., 0., 0.],\n",
              "       [0., 0., 0., 0., 0., 0., 0.],\n",
              "       [0., 0., 0., 0., 3., 0., 0.],\n",
              "       [0., 0., 0., 0., 0., 2., 4.],\n",
              "       [0., 0., 0., 0., 0., 4., 2.]])"
            ]
          },
          "metadata": {},
          "execution_count": 4
        }
      ]
    },
    {
      "cell_type": "code",
      "source": [
        "Mat1[:,::-1]"
      ],
      "metadata": {
        "colab": {
          "base_uri": "https://localhost:8080/"
        },
        "id": "hRahjYIDbQec",
        "outputId": "d9fba932-89a7-433b-f2fd-a1a8a64ea3ae"
      },
      "execution_count": 5,
      "outputs": [
        {
          "output_type": "execute_result",
          "data": {
            "text/plain": [
              "array([[0., 0., 0., 0., 0., 1., 3.],\n",
              "       [0., 0., 0., 0., 0., 1., 1.],\n",
              "       [0., 0., 0., 0., 0., 0., 0.],\n",
              "       [0., 0., 0., 0., 0., 0., 0.],\n",
              "       [0., 0., 3., 0., 0., 0., 0.],\n",
              "       [4., 2., 0., 0., 0., 0., 0.],\n",
              "       [2., 4., 0., 0., 0., 0., 0.]])"
            ]
          },
          "metadata": {},
          "execution_count": 5
        }
      ]
    },
    {
      "cell_type": "markdown",
      "source": [
        "#### Zadanie 5\n",
        "W macierzy Mat1 zamień miejscami lewy górny narożnik 4X4 z prawym dolnym 3x3 (nazwij wynik Mat2)\n",
        "\n",
        "#### Zadanie 6\n",
        "Stwórz macierz Mat3, która będzie zawierała tylko elementy z Mat2 o obu parzystych współrzędnych."
      ],
      "metadata": {
        "id": "5nn8LWwabRAh"
      }
    },
    {
      "cell_type": "code",
      "source": [
        "Mat1[:4,:4]"
      ],
      "metadata": {
        "colab": {
          "base_uri": "https://localhost:8080/"
        },
        "id": "3KpJTYIObTkO",
        "outputId": "aee73fa6-ac74-4de9-e477-8c0218549a17"
      },
      "execution_count": 6,
      "outputs": [
        {
          "output_type": "execute_result",
          "data": {
            "text/plain": [
              "array([[3., 1., 0., 0.],\n",
              "       [1., 1., 0., 0.],\n",
              "       [0., 0., 0., 0.],\n",
              "       [0., 0., 0., 0.]])"
            ]
          },
          "metadata": {},
          "execution_count": 6
        }
      ]
    },
    {
      "cell_type": "code",
      "source": [
        "Mat1[-3:,-3:]"
      ],
      "metadata": {
        "colab": {
          "base_uri": "https://localhost:8080/"
        },
        "id": "rXmaet2GbTmu",
        "outputId": "f56a78cc-27ae-4c70-fe4a-36af81a8e268"
      },
      "execution_count": 7,
      "outputs": [
        {
          "output_type": "execute_result",
          "data": {
            "text/plain": [
              "array([[3., 0., 0.],\n",
              "       [0., 2., 4.],\n",
              "       [0., 4., 2.]])"
            ]
          },
          "metadata": {},
          "execution_count": 7
        }
      ]
    },
    {
      "cell_type": "code",
      "source": [
        "Mat2=block_diag(Mat1[-3:,-3:],Mat1[:4,:4])\n",
        "Mat2"
      ],
      "metadata": {
        "id": "gW0I7TvmbTpG",
        "outputId": "f6ac5d93-424d-4a67-cc39-637c0438efd7",
        "colab": {
          "base_uri": "https://localhost:8080/"
        }
      },
      "execution_count": 10,
      "outputs": [
        {
          "output_type": "execute_result",
          "data": {
            "text/plain": [
              "array([[3., 0., 0., 0., 0., 0., 0.],\n",
              "       [0., 2., 4., 0., 0., 0., 0.],\n",
              "       [0., 4., 2., 0., 0., 0., 0.],\n",
              "       [0., 0., 0., 3., 1., 0., 0.],\n",
              "       [0., 0., 0., 1., 1., 0., 0.],\n",
              "       [0., 0., 0., 0., 0., 0., 0.],\n",
              "       [0., 0., 0., 0., 0., 0., 0.]])"
            ]
          },
          "metadata": {},
          "execution_count": 10
        }
      ]
    },
    {
      "cell_type": "code",
      "source": [
        "Mat3=Mat2[1::2,1::2].copy()\n",
        "\n",
        "Mat3[0,0]=3\n",
        "Mat2\n"
      ],
      "metadata": {
        "id": "CnVeHgjebTrU",
        "outputId": "5510d8fe-7e59-438b-cd0d-12b40b7d92bf",
        "colab": {
          "base_uri": "https://localhost:8080/"
        }
      },
      "execution_count": 18,
      "outputs": [
        {
          "output_type": "execute_result",
          "data": {
            "text/plain": [
              "array([[3., 0., 0., 0., 0., 0., 0.],\n",
              "       [0., 1., 4., 0., 0., 0., 0.],\n",
              "       [0., 4., 2., 0., 0., 0., 0.],\n",
              "       [0., 0., 0., 3., 1., 0., 0.],\n",
              "       [0., 0., 0., 1., 1., 0., 0.],\n",
              "       [0., 0., 0., 0., 0., 0., 0.],\n",
              "       [0., 0., 0., 0., 0., 0., 0.]])"
            ]
          },
          "metadata": {},
          "execution_count": 18
        }
      ]
    },
    {
      "cell_type": "code",
      "source": [
        "Mat4=Mat1[:2,:2]\n",
        "Mat4\n",
        "print(Mat4.base)"
      ],
      "metadata": {
        "id": "UE2czQUZiZGs",
        "outputId": "f243fbac-705b-4be6-c68b-ac7f67488c38",
        "colab": {
          "base_uri": "https://localhost:8080/"
        }
      },
      "execution_count": 25,
      "outputs": [
        {
          "output_type": "stream",
          "name": "stdout",
          "text": [
            "[[3. 1. 0. 0. 0. 0. 0.]\n",
            " [1. 1. 0. 0. 0. 0. 0.]\n",
            " [0. 0. 0. 0. 0. 0. 0.]\n",
            " [0. 0. 0. 0. 0. 0. 0.]\n",
            " [0. 0. 0. 0. 3. 0. 0.]\n",
            " [0. 0. 0. 0. 0. 2. 4.]\n",
            " [0. 0. 0. 0. 0. 4. 2.]]\n"
          ]
        }
      ]
    },
    {
      "cell_type": "code",
      "source": [
        "print(Mat3.base)\n"
      ],
      "metadata": {
        "id": "uxCffNo2iOGV",
        "outputId": "640b61f3-e02e-456d-8ced-27866301dc57",
        "colab": {
          "base_uri": "https://localhost:8080/"
        }
      },
      "execution_count": 20,
      "outputs": [
        {
          "output_type": "stream",
          "name": "stdout",
          "text": [
            "None\n"
          ]
        }
      ]
    },
    {
      "cell_type": "markdown",
      "source": [
        "### Zadanie 7\n",
        "Utwórz tablicę\n",
        "\n",
        "$$\n",
        "\\begin{bmatrix}\n",
        "1&2&3&4\\\\\n",
        "5&6&7&8 \\\\\n",
        "9&10&11&12\\\\\n",
        "13&14&15&16\n",
        "\\end{bmatrix}\n",
        "$$"
      ],
      "metadata": {
        "id": "Vy58FY1cbTx6"
      }
    },
    {
      "cell_type": "code",
      "source": [
        ""
      ],
      "metadata": {
        "id": "3FBT5yOpiNEO"
      },
      "execution_count": null,
      "outputs": []
    },
    {
      "cell_type": "code",
      "source": [
        ""
      ],
      "metadata": {
        "id": "AVlB7UNobXwX"
      },
      "execution_count": null,
      "outputs": []
    },
    {
      "cell_type": "code",
      "source": [
        ""
      ],
      "metadata": {
        "id": "lUoYrdjcbX2G"
      },
      "execution_count": null,
      "outputs": []
    },
    {
      "cell_type": "code",
      "source": [
        ""
      ],
      "metadata": {
        "id": "_jIKs1CYbX6I"
      },
      "execution_count": null,
      "outputs": []
    },
    {
      "cell_type": "markdown",
      "source": [
        "Inne przydatne funkcje:\n",
        "\n",
        "* łączenie macierzy ```np.concatenate((tab1,tab2),argumenty)```\n",
        "* rozdzielanie macierzy ```np.array_split(tab1, \\<liczba czesci\\>)```\n",
        "* wybieranie indeksów spełniających logiczny warunek: ```np.where(tab1>0)```\n",
        "* sortowanie ```np.sort(tab1)```"
      ],
      "metadata": {
        "id": "C-gMBsIvbYEl"
      }
    },
    {
      "cell_type": "code",
      "source": [
        ""
      ],
      "metadata": {
        "id": "7PtmO0jRba5v"
      },
      "execution_count": null,
      "outputs": []
    },
    {
      "cell_type": "code",
      "source": [
        ""
      ],
      "metadata": {
        "id": "V7SnQk9Uba8z"
      },
      "execution_count": null,
      "outputs": []
    },
    {
      "cell_type": "code",
      "source": [
        ""
      ],
      "metadata": {
        "id": "6CQzPsu1ba_P"
      },
      "execution_count": null,
      "outputs": []
    },
    {
      "cell_type": "code",
      "source": [
        ""
      ],
      "metadata": {
        "id": "Blf2a6yxbbB_"
      },
      "execution_count": null,
      "outputs": []
    },
    {
      "cell_type": "markdown",
      "source": [
        ""
      ],
      "metadata": {
        "id": "SVZoI8zWbbJt"
      }
    }
  ]
}