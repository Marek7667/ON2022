{
  "nbformat": 4,
  "nbformat_minor": 0,
  "metadata": {
    "colab": {
      "name": "LAB2 - zadanie domowe",
      "provenance": [],
      "include_colab_link": true
    },
    "kernelspec": {
      "name": "python3",
      "display_name": "Python 3"
    },
    "language_info": {
      "name": "python"
    }
  },
  "cells": [
    {
      "cell_type": "markdown",
      "metadata": {
        "id": "view-in-github",
        "colab_type": "text"
      },
      "source": [
        "<a href=\"https://colab.research.google.com/github/Marek7667/ON2022/blob/main/LAB2_zadanie_domowe.ipynb\" target=\"_parent\"><img src=\"https://colab.research.google.com/assets/colab-badge.svg\" alt=\"Open In Colab\"/></a>"
      ]
    },
    {
      "cell_type": "code",
      "execution_count": null,
      "metadata": {
        "id": "Kc53TXAEr6YG"
      },
      "outputs": [],
      "source": [
        ""
      ]
    },
    {
      "cell_type": "markdown",
      "source": [
        "#### Zadanie 1\n",
        "Niech $L1 = [\"1\", \"10\", \"2\", \"15\", \"22\", \"112\"]$ oraz $L2 = [\"0.5\", \"1\", \"15\", \"22.4\", \"22\", \"211\"]$.\n",
        "\n",
        "Posortuj listy $L1$ i $L2$ zgodnie z wartościami zapisanych liczb (a nie leksykograficznie). Stwórz Listę $L3$, która będzie zawierała wartości liczbowe utworzone poprzez konkatenację napisów z posortowanych list $L1$ oraz $L2$."
      ],
      "metadata": {
        "id": "ENCL_g8HsECL"
      }
    },
    {
      "cell_type": "code",
      "source": [
        "L1=[\"1\",\"10\",\"2\",\"15\",\"22\",\"112\"]\n",
        "L2=[\"0.5\",\"1\",\"15\",\"22.4\",\"22\",\"211\"]\n",
        "L1.sort(key=lambda a:float(a))\n",
        "L2.sort(key=lambda a:float(a))\n",
        "L3=[]\n",
        "j=0\n",
        "for i in L2:\n",
        "  L3.append(float(L1[j]+i))\n",
        "  j+=1\n",
        "L3"
      ],
      "metadata": {
        "id": "v4FjR5mosF-A",
        "outputId": "70cefda5-f0a2-401d-faab-7d2b423041fa",
        "colab": {
          "base_uri": "https://localhost:8080/"
        }
      },
      "execution_count": 1,
      "outputs": [
        {
          "output_type": "execute_result",
          "data": {
            "text/plain": [
              "[10.5, 21.0, 1015.0, 1522.0, 2222.4, 112211.0]"
            ]
          },
          "metadata": {},
          "execution_count": 1
        }
      ]
    },
    {
      "cell_type": "markdown",
      "source": [
        "#### Zadanie 2\n",
        "Dane są dwie listy upodobań:\n",
        "\n",
        "Jarek = ['koty', 'dobrze zjesc', 'piwo', 'bose spacery po trawie', 'pilka nozna'],\n",
        "\n",
        "Marek = ['piwo', 'psy', 'dobrze zjesc', 'siatkowka', 'seriale'].\n",
        "\n",
        "Na ich podstawie:\n",
        "\n",
        "1.  przygotuj zbiory $Jarek$ i $Marek$, i wyświetl ich zawartość,\n",
        "\n",
        "2.  oblicz sumę ich upodobań, to co wspólnie lubią, to co lubi tylko Jarek, to co lubi tylko Marek i wyświetl ich zawartości"
      ],
      "metadata": {
        "id": "ACNcsNASsGda"
      }
    },
    {
      "cell_type": "code",
      "source": [
        "Jarek = ['koty', 'dobrze zjesc', 'piwo', 'bose spacery po trawie', 'pilka nozna']\n",
        "Marek = ['piwo', 'psy', 'dobrze zjesc', 'siatkowka', 'seriale']\n",
        "Jarek = set(Jarek)\n",
        "Marek = set(Marek)\n",
        "print(Jarek.union(Marek)) #wszystko\n",
        "print(Jarek.intersection(Marek)) #razem\n",
        "print(Jarek.difference(Marek)) #tylko Jaro\n",
        "print(Marek.difference(Jarek)) #tylko ja"
      ],
      "metadata": {
        "id": "EJJeCBPrsSkQ",
        "outputId": "c9b40a08-f5e8-47c5-d021-3e06aca69843",
        "colab": {
          "base_uri": "https://localhost:8080/"
        }
      },
      "execution_count": null,
      "outputs": [
        {
          "output_type": "stream",
          "name": "stdout",
          "text": [
            "{'seriale', 'dobrze zjesc', 'bose spacery po trawie', 'siatkowka', 'koty', 'pilka nozna', 'piwo', 'psy'}\n",
            "{'piwo', 'dobrze zjesc'}\n",
            "{'bose spacery po trawie', 'koty', 'pilka nozna'}\n",
            "{'seriale', 'psy', 'siatkowka'}\n"
          ]
        }
      ]
    },
    {
      "cell_type": "markdown",
      "source": [
        "#### Zadanie 3\n",
        "Napisz **funkcję** bezargumentową o nazwie listownik(), która\n",
        "* zapyta o długośc listy, która musi znaleźć się w przedziale $[10,20]$ (przypilnuj użytkownika)\n",
        "* wygeneruje  i wydrukuje listę o odpowiedniej długości z liczbami losowymi  przedziału $[0,10]$\n",
        "* **zwróci** liczbę unikalnych wartości w wygenerowanej liście\n",
        "\n",
        "W rozwiązaniu można korzystać z funkcji pomocniczych.\n"
      ],
      "metadata": {
        "id": "gvgzYVq7tVRB"
      }
    },
    {
      "cell_type": "code",
      "source": [
        "import random\n",
        "def listownik():\n",
        "  dl=0\n",
        "  while (dl<10 or dl>20):\n",
        "    dl=int(input('Podaj długość listy (wartość pomiędzy 10 a 20): '))\n",
        "  l=[]\n",
        "  for i in range(dl):\n",
        "    l.append(random.randint(0, 10))\n",
        "  print(l)\n",
        "  a=[]\n",
        "  for i in range(10):\n",
        "    for j in l:\n",
        "      if i==j:\n",
        "          a.append(i)\n",
        "          break\n",
        "\n",
        "  return len(a)\n",
        "\n",
        "listownik()"
      ],
      "metadata": {
        "id": "lhi0JLcntXrQ",
        "outputId": "f642f696-04bd-4373-f63f-8a6c032784e2",
        "colab": {
          "base_uri": "https://localhost:8080/"
        }
      },
      "execution_count": null,
      "outputs": [
        {
          "output_type": "stream",
          "name": "stdout",
          "text": [
            "Podaj długość listy (wartość pomiędzy 10 a 20): 11\n",
            "[2, 7, 9, 8, 7, 10, 8, 7, 6, 5, 10]\n"
          ]
        },
        {
          "output_type": "execute_result",
          "data": {
            "text/plain": [
              "6"
            ]
          },
          "metadata": {},
          "execution_count": 13
        }
      ]
    }
  ]
}